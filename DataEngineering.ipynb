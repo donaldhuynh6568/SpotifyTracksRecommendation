{
 "cells": [
  {
   "cell_type": "code",
   "execution_count": 1,
   "metadata": {},
   "outputs": [],
   "source": [
    "import requests\n",
    "from Secret import *\n",
    "import base64, json\n",
    "import pandas as pd\n",
    "import time"
   ]
  },
  {
   "cell_type": "code",
   "execution_count": 2,
   "metadata": {},
   "outputs": [],
   "source": [
    "authUrl= 'https://accounts.spotify.com/api/token'\n",
    "authHeader = {}\n",
    "authData= {}"
   ]
  },
  {
   "cell_type": "code",
   "execution_count": 3,
   "metadata": {},
   "outputs": [],
   "source": [
    "#Function to retrieve access token\n",
    "def getAccessToken(clientID, clientSecret):\n",
    "    message= f\"{clientID}:{clientSecret}\"\n",
    "    \n",
    "    message_bytes= message.encode('ascii')\n",
    "    base64_bytes= base64.b64encode(message_bytes)\n",
    "    base64_message = base64_bytes.decode('ascii')\n",
    "    \n",
    "    print(base64_message)\n",
    "    \n",
    "    \n",
    "    authHeader['Authorization'] = \"Basic \" + base64_message\n",
    "    authData['grant_type'] = \"client_credentials\"\n",
    "    res = requests.post(authUrl, headers= authHeader, data=authData)\n",
    "    \n",
    "    print(res)\n",
    "    \n",
    "    responseObject = res.json()\n",
    "    print(json.dumps(responseObject, indent = 2))\n",
    "    \n",
    "    accessToken= responseObject['access_token']\n",
    "    \n",
    "    return accessToken"
   ]
  },
  {
   "cell_type": "code",
   "execution_count": 4,
   "metadata": {},
   "outputs": [],
   "source": [
    "#Function to retrieve user's playlist\n",
    "def getPlaylist(token, userID, limit, offset):\n",
    "    playlistEndpoint= f\"https://api.spotify.com/v1/users/{userID}/playlists?country=us&limit={limit}&offset={offset}\"\n",
    "    getHeader = {\n",
    "        \"Authorization\": \"Bearer \" + token\n",
    "        }\n",
    "    res=requests.get(playlistEndpoint, headers=getHeader)\n",
    "    playlistObject=res.json()\n",
    "    return playlistObject"
   ]
  },
  {
   "cell_type": "code",
   "execution_count": 5,
   "metadata": {},
   "outputs": [],
   "source": [
    "#Function to retreive Spotify's playlists based on genre\n",
    "def getGenrePlaylist(token, categoryID, limit, offset):\n",
    "    playlistEndpoint= f\"https://api.spotify.com/v1/browse/categories/{categoryID}/playlists?limit={limit}&offset={offset}\"\n",
    "    getHeader = {\"Accept\": \"application/json\",\n",
    "                \"Content-Type\": \"application/json\",\n",
    "                \"Authorization\": \"Bearer \" + token\n",
    "                }\n",
    "    res=requests.get(playlistEndpoint, headers=getHeader)\n",
    "    playlistObject=res.json()\n",
    "    return playlistObject"
   ]
  },
  {
   "cell_type": "code",
   "execution_count": 6,
   "metadata": {},
   "outputs": [],
   "source": [
    "#Function to retrieve tracks from playlists\n",
    "def getPlaylistTracks(token, playlistID):\n",
    "    playlistEndPoint= f\"https://api.spotify.com/v1/playlists/{playlistID}/tracks\"\n",
    "    \n",
    "    getHeader = {\n",
    "        \"Authorization\": \"Bearer \" + token,\n",
    "        \"Content-Type\": \"application/json\"\n",
    "        }\n",
    "    res= requests.get(playlistEndPoint, headers=getHeader)\n",
    "    \n",
    "    playlistObject= res.json()\n",
    "    return playlistObject"
   ]
  },
  {
   "cell_type": "code",
   "execution_count": 7,
   "metadata": {},
   "outputs": [],
   "source": [
    "#Function to retrieve audio features from tracks\n",
    "def getAudioFeatures(token, trackID):\n",
    "    trackendpoint= f\"https://api.spotify.com/v1/audio-features/{trackID}\"\n",
    "    getHeader = {\"Accept\": \"application/json\",\n",
    "                \"Content-Type\": \"application/json\",\n",
    "                \"Authorization\": \"Bearer \" + token\n",
    "                }\n",
    "    res=requests.get(trackendpoint, headers=getHeader)\n",
    "    playlistobject=res.json()\n",
    "    return playlistobject"
   ]
  },
  {
   "cell_type": "markdown",
   "metadata": {},
   "source": [
    "Cells below will take a few minutes to run"
   ]
  },
  {
   "cell_type": "code",
   "execution_count": 10,
   "metadata": {},
   "outputs": [
    {
     "name": "stdout",
     "output_type": "stream",
     "text": [
      "ZGNjMjFhMzdjYzUwNDMxMjhkMjFkOWYxM2FlNjY0OTA6OTBjYmU5MzNmYWY2NDU1NDgxMDQ0ZGZjNmU0MDFhZjA=\n",
      "<Response [200]>\n",
      "{\n",
      "  \"access_token\": \"BQBxQEfy8KnKHWhJNfZCyuZBKI_c9J2uyfCNJIBuvQsqVWYNBPPKSRuC9hIHuazBCqL_fs6kthlOSeR8Vxzy0NKt7topm7wovpgeqmJwT_eF35rOSHU\",\n",
      "  \"token_type\": \"Bearer\",\n",
      "  \"expires_in\": 3600\n",
      "}\n"
     ]
    }
   ],
   "source": [
    "#API Request to retrieve my playlist tracks based on my user ID\n",
    "\n",
    "df = pd.DataFrame(columns=['track_id', 'name', 'album', 'artist', 'release_date', 'length', 'popularity', 'danceability', 'acousticness', 'energy','instrumentalness', 'liveness', 'loudness', 'speechiness', 'tempo', 'time_signature']\n",
    "                 )\n",
    "\n",
    "token= getAccessToken(clientID, clientSecret)\n",
    "playlists=getPlaylist(token,userID, 50, 0)\n",
    "\n",
    "#iterate through user playlists\n",
    "for p in playlists['items']:\n",
    "    playlistID= p['id']\n",
    "    tracklist= getPlaylistTracks(token, playlistID)\n",
    "    \n",
    "    #collect information from tracks in playlist\n",
    "    for t in tracklist['items'][:50]:\n",
    "        album= t['track']['album']['name']\n",
    "        release_date=t['track']['album']['release_date']\n",
    "        for a in t['track']['artists']:\n",
    "            artist= a['name']\n",
    "        songName = t['track']['name']\n",
    "        popularity = t['track']['popularity']\n",
    "        trackID= t['track']['id']\n",
    "        features= getAudioFeatures(token, trackID)\n",
    "        length= features['duration_ms']\n",
    "        danceability= features['danceability']\n",
    "        acousticness= features['acousticness']\n",
    "        energy = features['energy']\n",
    "        instrumentalness = features['instrumentalness']\n",
    "        liveness= features['liveness']\n",
    "        loudness = features['loudness']\n",
    "        speechiness = features['speechiness']\n",
    "        tempo = features['tempo']\n",
    "        time_signature= features['time_signature']\n",
    "        \n",
    "    \n",
    "        df= df.append({'track_id': trackID,'name':songName, 'album':album, 'artist':artist, 'release_date':release_date,'length': length, 'popularity':popularity, 'danceability':danceability, 'acousticness':acousticness, 'energy':energy,\n",
    "                       'instrumentalness':instrumentalness, 'liveness':liveness, 'loudness': loudness, 'speechiness':speechiness, 'tempo':tempo, 'time_signature':time_signature}, ignore_index=True\n",
    "                     )\n",
    "        \n",
    "df.to_csv('Donald_Playlist_July_22.csv', index=False)"
   ]
  },
  {
   "cell_type": "code",
   "execution_count": 12,
   "metadata": {},
   "outputs": [
    {
     "name": "stdout",
     "output_type": "stream",
     "text": [
      "ZGNjMjFhMzdjYzUwNDMxMjhkMjFkOWYxM2FlNjY0OTA6OTBjYmU5MzNmYWY2NDU1NDgxMDQ0ZGZjNmU0MDFhZjA=\n",
      "<Response [200]>\n",
      "{\n",
      "  \"access_token\": \"BQAzIJ5AK5kxfk1oTlo_d_hKN38tdkIjB2cuPALp9cmqWXaoBVGQGZZN-JH9yP9uo9684QraMnfEbXyUZY2jdDkPvJPt_EEqPjMbzd1b8n6wTiYdMZ4\",\n",
      "  \"token_type\": \"Bearer\",\n",
      "  \"expires_in\": 3600\n",
      "}\n"
     ]
    }
   ],
   "source": [
    "#API Request to retrieve my friend Tarush's most recent fifty playlists to build a track library\n",
    "\n",
    "df2 = pd.DataFrame(columns=['track_id', 'name', 'album', 'artist', 'release_date', 'length', 'popularity', 'danceability', 'acousticness', 'energy','instrumentalness', 'liveness', 'loudness', 'speechiness', 'tempo', 'time_signature']\n",
    "                 )\n",
    "\n",
    "userID='121047889' #obtain user ID from Spotify Profile\n",
    "token= getAccessToken(clientID, clientSecret)\n",
    "playlists=getPlaylist(token,userID, 50, 0)\n",
    "\n",
    "#iterate through user playlists\n",
    "for p in playlists['items']:\n",
    "    playlistID= p['id']\n",
    "    tracklist= getPlaylistTracks(token, playlistID)\n",
    "    \n",
    "    #collect information from tracks in playlist\n",
    "    for t in tracklist['items'][:50]:\n",
    "        album= t['track']['album']['name']\n",
    "        release_date=t['track']['album']['release_date']\n",
    "        for a in t['track']['artists']:\n",
    "            artist= a['name']\n",
    "        songName = t['track']['name']\n",
    "        popularity = t['track']['popularity']\n",
    "        trackID= t['track']['id']\n",
    "        features= getAudioFeatures(token, trackID)\n",
    "        length= features['duration_ms']\n",
    "        danceability= features['danceability']\n",
    "        acousticness= features['acousticness']\n",
    "        energy = features['energy']\n",
    "        instrumentalness = features['instrumentalness']\n",
    "        liveness= features['liveness']\n",
    "        loudness = features['loudness']\n",
    "        speechiness = features['speechiness']\n",
    "        tempo = features['tempo']\n",
    "        time_signature= features['time_signature']\n",
    "        \n",
    "    \n",
    "        df2= df2.append({'track_id': trackID,'name':songName, 'album':album, 'artist':artist, 'release_date':release_date,'length': length, 'popularity':popularity, 'danceability':danceability, 'acousticness':acousticness, 'energy':energy,\n",
    "                       'instrumentalness':instrumentalness, 'liveness':liveness, 'loudness': loudness, 'speechiness':speechiness, 'tempo':tempo, 'time_signature':time_signature}, ignore_index=True\n",
    "                     )\n",
    "        \n",
    "df2.to_csv('Tarush_Playlist_July_22.csv', index=False)"
   ]
  },
  {
   "cell_type": "code",
   "execution_count": 47,
   "metadata": {},
   "outputs": [],
   "source": [
    "#API Requests for Genre Playlists to get recommendations from\n",
    "\n",
    "df3 = pd.DataFrame(columns=['track_id', 'name', 'album', 'artist', 'release_date', 'length', 'popularity', 'danceability', 'acousticness', 'energy','instrumentalness', 'liveness', 'loudness', 'speechiness', 'tempo', 'time_signature']\n",
    "                 )\n",
    "\n",
    "token= getAccessToken(clientID, clientSecret)\n",
    "playlists=getGenrePlaylist(token,\"edm_dance\", 25, 0)\n",
    "\n",
    "\n",
    "#iterate through user playlists\n",
    "for p in playlists['playlists']['items']:\n",
    "    playlistID= p['id']\n",
    "    tracklist= getPlaylistTracks(token, playlistID)\n",
    "\n",
    "    #collect information from tracks in playlist\n",
    "    for t in tracklist['items']:\n",
    "        album = t['track']['album']['name']\n",
    "        release_date = t['track']['album']['release_date']\n",
    "        for a in t['track']['artists']:\n",
    "            artist= a['name']\n",
    "        songName = t['track']['name']\n",
    "        popularity = t['track']['popularity']\n",
    "        trackID= t['track']['id']\n",
    "        features = getAudioFeatures(token, trackID)\n",
    "        #time.sleep(1.5)\n",
    "        #print(json.dumps(features, indent=2))\n",
    "        length = features['duration_ms']\n",
    "        danceability = features[\"danceability\"]\n",
    "        acousticness= features['acousticness']\n",
    "        energy = features['energy']\n",
    "        instrumentalness = features['instrumentalness']\n",
    "        liveness= features['liveness']\n",
    "        loudness = features['loudness']\n",
    "        speechiness = features['speechiness']\n",
    "        tempo = features['tempo']\n",
    "        time_signature= features['time_signature']\n",
    "\n",
    "        df3 = df3.append({'track_id': trackID,'name':songName, 'album':album, 'artist':artist, 'release_date':release_date,'length': length, 'popularity':popularity, 'danceability':danceability, 'acousticness':acousticness, 'energy':energy,\n",
    "                        'instrumentalness':instrumentalness, 'liveness':liveness, 'loudness': loudness, 'speechiness':speechiness, 'tempo':tempo, 'time_signature':time_signature}, ignore_index=True\n",
    "                        )        \n",
    "df3.to_csv('Electronic_Playlist_July_22.csv', index=False)"
   ]
  },
  {
   "cell_type": "code",
   "execution_count": 22,
   "metadata": {},
   "outputs": [
    {
     "data": {
      "text/plain": [
       "(7308, 16)"
      ]
     },
     "execution_count": 22,
     "metadata": {},
     "output_type": "execute_result"
    }
   ],
   "source": [
    "#clean data frames for modeling\n",
    "df=pd.read_csv('Donald_Playlist_July_22.csv')\n",
    "df2=pd.read_csv('Spotify_Electronic_Playlist_22.csv')\n",
    "df2.shape"
   ]
  },
  {
   "cell_type": "code",
   "execution_count": 24,
   "metadata": {},
   "outputs": [
    {
     "data": {
      "text/plain": [
       "75L0L7Ke5OISvwX0RoONtI    1\n",
       "1aFaTUEi3pNVmPvHJ4rBTp    1\n",
       "4xT0BmSuDNp2vkK5v07yba    1\n",
       "7bg3UimnS4beLnE476hfEE    1\n",
       "1Ckah0ICBG4AoAY0x6LbSF    1\n",
       "                         ..\n",
       "70UlGPMsr7TqIZaMqIdWxq    1\n",
       "3wPJnbaKlWylBEdHNA0u9D    1\n",
       "5ctXnsZojAvfDq75D4N1bz    1\n",
       "1xNcBAoUw8Hz6LqK2jt4Ff    1\n",
       "0Rz8DdxSqMuYDzTrzXSQNG    1\n",
       "Name: track_id, Length: 5847, dtype: int64"
      ]
     },
     "execution_count": 24,
     "metadata": {},
     "output_type": "execute_result"
    }
   ],
   "source": [
    "# Dropping duplicated songs\n",
    "df = df.drop_duplicates(subset=['track_id'])\n",
    "df2 = df2.drop_duplicates(subset=['track_id'])\n",
    "df2['track_id'].value_counts()"
   ]
  },
  {
   "cell_type": "code",
   "execution_count": 25,
   "metadata": {},
   "outputs": [
    {
     "data": {
      "text/html": [
       "<div>\n",
       "<style scoped>\n",
       "    .dataframe tbody tr th:only-of-type {\n",
       "        vertical-align: middle;\n",
       "    }\n",
       "\n",
       "    .dataframe tbody tr th {\n",
       "        vertical-align: top;\n",
       "    }\n",
       "\n",
       "    .dataframe thead th {\n",
       "        text-align: right;\n",
       "    }\n",
       "</style>\n",
       "<table border=\"1\" class=\"dataframe\">\n",
       "  <thead>\n",
       "    <tr style=\"text-align: right;\">\n",
       "      <th></th>\n",
       "      <th>track_id</th>\n",
       "      <th>length</th>\n",
       "      <th>popularity</th>\n",
       "      <th>danceability</th>\n",
       "      <th>acousticness</th>\n",
       "      <th>energy</th>\n",
       "      <th>instrumentalness</th>\n",
       "      <th>liveness</th>\n",
       "      <th>loudness</th>\n",
       "      <th>speechiness</th>\n",
       "      <th>tempo</th>\n",
       "      <th>time_signature</th>\n",
       "    </tr>\n",
       "  </thead>\n",
       "  <tbody>\n",
       "    <tr>\n",
       "      <th>0</th>\n",
       "      <td>408UEGA6FV2nvQjr1nt1VT</td>\n",
       "      <td>240000</td>\n",
       "      <td>51</td>\n",
       "      <td>0.502</td>\n",
       "      <td>0.05430</td>\n",
       "      <td>0.874</td>\n",
       "      <td>0.000001</td>\n",
       "      <td>0.4260</td>\n",
       "      <td>-3.742</td>\n",
       "      <td>0.2030</td>\n",
       "      <td>141.776</td>\n",
       "      <td>4</td>\n",
       "    </tr>\n",
       "    <tr>\n",
       "      <th>1</th>\n",
       "      <td>4XeIiGpUBshIfs9yrBDVZC</td>\n",
       "      <td>359126</td>\n",
       "      <td>77</td>\n",
       "      <td>0.633</td>\n",
       "      <td>0.00764</td>\n",
       "      <td>0.920</td>\n",
       "      <td>0.001770</td>\n",
       "      <td>0.1230</td>\n",
       "      <td>-2.812</td>\n",
       "      <td>0.0928</td>\n",
       "      <td>114.997</td>\n",
       "      <td>4</td>\n",
       "    </tr>\n",
       "    <tr>\n",
       "      <th>2</th>\n",
       "      <td>6GomT970rCOkKAyyrwJeZi</td>\n",
       "      <td>157445</td>\n",
       "      <td>83</td>\n",
       "      <td>0.848</td>\n",
       "      <td>0.01690</td>\n",
       "      <td>0.821</td>\n",
       "      <td>0.000403</td>\n",
       "      <td>0.0962</td>\n",
       "      <td>-5.408</td>\n",
       "      <td>0.0527</td>\n",
       "      <td>125.051</td>\n",
       "      <td>4</td>\n",
       "    </tr>\n",
       "    <tr>\n",
       "      <th>3</th>\n",
       "      <td>50ZFpw2wS6ERvLmW8TINhq</td>\n",
       "      <td>168053</td>\n",
       "      <td>82</td>\n",
       "      <td>0.788</td>\n",
       "      <td>0.22300</td>\n",
       "      <td>0.945</td>\n",
       "      <td>0.000003</td>\n",
       "      <td>0.1150</td>\n",
       "      <td>-5.091</td>\n",
       "      <td>0.0599</td>\n",
       "      <td>128.036</td>\n",
       "      <td>4</td>\n",
       "    </tr>\n",
       "    <tr>\n",
       "      <th>4</th>\n",
       "      <td>08Ecw0ItPxGeHS9Mexr8cs</td>\n",
       "      <td>242905</td>\n",
       "      <td>73</td>\n",
       "      <td>0.716</td>\n",
       "      <td>0.00857</td>\n",
       "      <td>0.655</td>\n",
       "      <td>0.162000</td>\n",
       "      <td>0.0572</td>\n",
       "      <td>-5.999</td>\n",
       "      <td>0.0444</td>\n",
       "      <td>125.012</td>\n",
       "      <td>4</td>\n",
       "    </tr>\n",
       "  </tbody>\n",
       "</table>\n",
       "</div>"
      ],
      "text/plain": [
       "                 track_id  length  popularity  danceability  acousticness  \\\n",
       "0  408UEGA6FV2nvQjr1nt1VT  240000          51         0.502       0.05430   \n",
       "1  4XeIiGpUBshIfs9yrBDVZC  359126          77         0.633       0.00764   \n",
       "2  6GomT970rCOkKAyyrwJeZi  157445          83         0.848       0.01690   \n",
       "3  50ZFpw2wS6ERvLmW8TINhq  168053          82         0.788       0.22300   \n",
       "4  08Ecw0ItPxGeHS9Mexr8cs  242905          73         0.716       0.00857   \n",
       "\n",
       "   energy  instrumentalness  liveness  loudness  speechiness    tempo  \\\n",
       "0   0.874          0.000001    0.4260    -3.742       0.2030  141.776   \n",
       "1   0.920          0.001770    0.1230    -2.812       0.0928  114.997   \n",
       "2   0.821          0.000403    0.0962    -5.408       0.0527  125.051   \n",
       "3   0.945          0.000003    0.1150    -5.091       0.0599  128.036   \n",
       "4   0.655          0.162000    0.0572    -5.999       0.0444  125.012   \n",
       "\n",
       "   time_signature  \n",
       "0               4  \n",
       "1               4  \n",
       "2               4  \n",
       "3               4  \n",
       "4               4  "
      ]
     },
     "execution_count": 25,
     "metadata": {},
     "output_type": "execute_result"
    }
   ],
   "source": [
    "# Dropping columns that could lead to data leakage\n",
    "df = df.drop(columns=['name', 'album', 'artist', 'release_date'])\n",
    "df2 = df2.drop(columns=['name', 'album', 'artist', 'release_date'])\n",
    "df2.head()"
   ]
  },
  {
   "cell_type": "code",
   "execution_count": 26,
   "metadata": {},
   "outputs": [],
   "source": [
    "df['favorite'] = 1\n",
    "df2['favorite'] = 0"
   ]
  },
  {
   "cell_type": "code",
   "execution_count": 27,
   "metadata": {},
   "outputs": [
    {
     "data": {
      "text/plain": [
       "(5847, 13)"
      ]
     },
     "execution_count": 27,
     "metadata": {},
     "output_type": "execute_result"
    }
   ],
   "source": [
    "df2.shape"
   ]
  },
  {
   "cell_type": "code",
   "execution_count": 28,
   "metadata": {},
   "outputs": [],
   "source": [
    "#save dataframes for machine learning model\n",
    "df.to_csv('DonaldJuly22ML.csv', index=False)\n",
    "df2.to_csv('SpotifyJuly22ML.csv', index=False)"
   ]
  }
 ],
 "metadata": {
  "kernelspec": {
   "display_name": "Python 3.8.5 ('base')",
   "language": "python",
   "name": "python3"
  },
  "language_info": {
   "codemirror_mode": {
    "name": "ipython",
    "version": 3
   },
   "file_extension": ".py",
   "mimetype": "text/x-python",
   "name": "python",
   "nbconvert_exporter": "python",
   "pygments_lexer": "ipython3",
   "version": "3.8.5"
  },
  "vscode": {
   "interpreter": {
    "hash": "2b9fb5ed76e5fd86db636869aee6f79fc2cfe4cfc319cf9346d99bf46c5f24f0"
   }
  }
 },
 "nbformat": 4,
 "nbformat_minor": 4
}
