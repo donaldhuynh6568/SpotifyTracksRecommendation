{
 "cells": [
  {
   "cell_type": "code",
   "execution_count": 2,
   "metadata": {},
   "outputs": [],
   "source": [
    "# Importing the necessary libraries\n",
    "import pandas as pd\n",
    "import numpy as np\n",
    "import seaborn as sns\n",
    "import matplotlib.pyplot as plt\n",
    "import matplotlib.ticker as plticker\n",
    "from imblearn.over_sampling import SMOTE\n",
    "%matplotlib inline"
   ]
  },
  {
   "cell_type": "code",
   "execution_count": 3,
   "metadata": {},
   "outputs": [],
   "source": [
    "# Importing playlist dataframes\n",
    "df = pd.read_csv('SpotifyMarch22ML.csv')\n",
    "df_fav = pd.read_csv('DonaldMarch22ML.csv')"
   ]
  },
  {
   "cell_type": "code",
   "execution_count": 4,
   "metadata": {},
   "outputs": [
    {
     "data": {
      "text/plain": [
       "array([ True,  True,  True,  True,  True,  True,  True,  True,  True,\n",
       "        True,  True,  True,  True])"
      ]
     },
     "execution_count": 4,
     "metadata": {},
     "output_type": "execute_result"
    }
   ],
   "source": [
    "# Checking if both datasets have the same columns\n",
    "df.columns == df_fav.columns"
   ]
  },
  {
   "cell_type": "code",
   "execution_count": 38,
   "metadata": {},
   "outputs": [
    {
     "data": {
      "text/plain": [
       "(6464, 13)"
      ]
     },
     "execution_count": 38,
     "metadata": {},
     "output_type": "execute_result"
    }
   ],
   "source": [
    "df_model = pd.concat([df, df_fav], axis=0)\n",
    "df_model = df_model.reset_index(drop=True)\n",
    "df_model.shape"
   ]
  },
  {
   "cell_type": "code",
   "execution_count": 29,
   "metadata": {},
   "outputs": [
    {
     "data": {
      "text/html": [
       "<div>\n",
       "<style scoped>\n",
       "    .dataframe tbody tr th:only-of-type {\n",
       "        vertical-align: middle;\n",
       "    }\n",
       "\n",
       "    .dataframe tbody tr th {\n",
       "        vertical-align: top;\n",
       "    }\n",
       "\n",
       "    .dataframe thead th {\n",
       "        text-align: right;\n",
       "    }\n",
       "</style>\n",
       "<table border=\"1\" class=\"dataframe\">\n",
       "  <thead>\n",
       "    <tr style=\"text-align: right;\">\n",
       "      <th></th>\n",
       "      <th>track_id</th>\n",
       "      <th>length</th>\n",
       "      <th>popularity</th>\n",
       "      <th>danceability</th>\n",
       "      <th>acousticness</th>\n",
       "      <th>energy</th>\n",
       "      <th>instrumentalness</th>\n",
       "      <th>liveness</th>\n",
       "      <th>loudness</th>\n",
       "      <th>speechiness</th>\n",
       "      <th>tempo</th>\n",
       "      <th>time_signature</th>\n",
       "      <th>favorite</th>\n",
       "    </tr>\n",
       "  </thead>\n",
       "  <tbody>\n",
       "    <tr>\n",
       "      <th>0</th>\n",
       "      <td>408UEGA6FV2nvQjr1nt1VT</td>\n",
       "      <td>240000</td>\n",
       "      <td>51</td>\n",
       "      <td>0.502</td>\n",
       "      <td>0.05430</td>\n",
       "      <td>0.874</td>\n",
       "      <td>0.000001</td>\n",
       "      <td>0.4260</td>\n",
       "      <td>-3.742</td>\n",
       "      <td>0.2030</td>\n",
       "      <td>141.776</td>\n",
       "      <td>4</td>\n",
       "      <td>0</td>\n",
       "    </tr>\n",
       "    <tr>\n",
       "      <th>1</th>\n",
       "      <td>4XeIiGpUBshIfs9yrBDVZC</td>\n",
       "      <td>359126</td>\n",
       "      <td>77</td>\n",
       "      <td>0.633</td>\n",
       "      <td>0.00764</td>\n",
       "      <td>0.920</td>\n",
       "      <td>0.001770</td>\n",
       "      <td>0.1230</td>\n",
       "      <td>-2.812</td>\n",
       "      <td>0.0928</td>\n",
       "      <td>114.997</td>\n",
       "      <td>4</td>\n",
       "      <td>0</td>\n",
       "    </tr>\n",
       "    <tr>\n",
       "      <th>2</th>\n",
       "      <td>6GomT970rCOkKAyyrwJeZi</td>\n",
       "      <td>157445</td>\n",
       "      <td>83</td>\n",
       "      <td>0.848</td>\n",
       "      <td>0.01690</td>\n",
       "      <td>0.821</td>\n",
       "      <td>0.000403</td>\n",
       "      <td>0.0962</td>\n",
       "      <td>-5.408</td>\n",
       "      <td>0.0527</td>\n",
       "      <td>125.051</td>\n",
       "      <td>4</td>\n",
       "      <td>0</td>\n",
       "    </tr>\n",
       "    <tr>\n",
       "      <th>3</th>\n",
       "      <td>50ZFpw2wS6ERvLmW8TINhq</td>\n",
       "      <td>168053</td>\n",
       "      <td>82</td>\n",
       "      <td>0.788</td>\n",
       "      <td>0.22300</td>\n",
       "      <td>0.945</td>\n",
       "      <td>0.000003</td>\n",
       "      <td>0.1150</td>\n",
       "      <td>-5.091</td>\n",
       "      <td>0.0599</td>\n",
       "      <td>128.036</td>\n",
       "      <td>4</td>\n",
       "      <td>0</td>\n",
       "    </tr>\n",
       "    <tr>\n",
       "      <th>4</th>\n",
       "      <td>08Ecw0ItPxGeHS9Mexr8cs</td>\n",
       "      <td>242905</td>\n",
       "      <td>73</td>\n",
       "      <td>0.716</td>\n",
       "      <td>0.00857</td>\n",
       "      <td>0.655</td>\n",
       "      <td>0.162000</td>\n",
       "      <td>0.0572</td>\n",
       "      <td>-5.999</td>\n",
       "      <td>0.0444</td>\n",
       "      <td>125.012</td>\n",
       "      <td>4</td>\n",
       "      <td>0</td>\n",
       "    </tr>\n",
       "  </tbody>\n",
       "</table>\n",
       "</div>"
      ],
      "text/plain": [
       "                 track_id  length  popularity  danceability  acousticness  \\\n",
       "0  408UEGA6FV2nvQjr1nt1VT  240000          51         0.502       0.05430   \n",
       "1  4XeIiGpUBshIfs9yrBDVZC  359126          77         0.633       0.00764   \n",
       "2  6GomT970rCOkKAyyrwJeZi  157445          83         0.848       0.01690   \n",
       "3  50ZFpw2wS6ERvLmW8TINhq  168053          82         0.788       0.22300   \n",
       "4  08Ecw0ItPxGeHS9Mexr8cs  242905          73         0.716       0.00857   \n",
       "\n",
       "   energy  instrumentalness  liveness  loudness  speechiness    tempo  \\\n",
       "0   0.874          0.000001    0.4260    -3.742       0.2030  141.776   \n",
       "1   0.920          0.001770    0.1230    -2.812       0.0928  114.997   \n",
       "2   0.821          0.000403    0.0962    -5.408       0.0527  125.051   \n",
       "3   0.945          0.000003    0.1150    -5.091       0.0599  128.036   \n",
       "4   0.655          0.162000    0.0572    -5.999       0.0444  125.012   \n",
       "\n",
       "   time_signature  favorite  \n",
       "0               4         0  \n",
       "1               4         0  \n",
       "2               4         0  \n",
       "3               4         0  \n",
       "4               4         0  "
      ]
     },
     "execution_count": 29,
     "metadata": {},
     "output_type": "execute_result"
    }
   ],
   "source": [
    "df_model.head()"
   ]
  },
  {
   "cell_type": "code",
   "execution_count": 39,
   "metadata": {},
   "outputs": [
    {
     "data": {
      "text/plain": [
       "0    5847\n",
       "1     617\n",
       "Name: favorite, dtype: int64"
      ]
     },
     "execution_count": 39,
     "metadata": {},
     "output_type": "execute_result"
    }
   ],
   "source": [
    "df_model['favorite'].value_counts()"
   ]
  },
  {
   "cell_type": "markdown",
   "metadata": {},
   "source": [
    "Prepare Data for Modeling"
   ]
  },
  {
   "cell_type": "code",
   "execution_count": 24,
   "metadata": {},
   "outputs": [
    {
     "name": "stderr",
     "output_type": "stream",
     "text": [
      "Summarize dataset: 100%|██████████| 126/126 [00:17<00:00,  7.39it/s, Completed]                                \n",
      "Generate report structure: 100%|██████████| 1/1 [00:05<00:00,  5.05s/it]\n",
      "Render HTML: 100%|██████████| 1/1 [00:03<00:00,  3.52s/it]\n",
      "Export report to file: 100%|██████████| 1/1 [00:00<00:00, 43.47it/s]\n"
     ]
    }
   ],
   "source": [
    "from pandas_profiling import ProfileReport\n",
    "report = ProfileReport(df_model)\n",
    "report.to_file('ml_model_march_22.html')"
   ]
  },
  {
   "cell_type": "code",
   "execution_count": 25,
   "metadata": {},
   "outputs": [
    {
     "name": "stdout",
     "output_type": "stream",
     "text": [
      "track_id\n",
      "length\n",
      "loudness\n",
      "tempo\n"
     ]
    }
   ],
   "source": [
    "#check for variables with high variance\n",
    "for col in df_model.columns:\n",
    "    fraction_unique = df_model[col].unique().shape[0] / df_model.shape[0]\n",
    "    if fraction_unique > 0.5:\n",
    "        print(col)\n",
    "\n",
    "#could add these columns to a list to drop"
   ]
  },
  {
   "cell_type": "code",
   "execution_count": 40,
   "metadata": {},
   "outputs": [],
   "source": [
    "#Correlation Plot between features and target\n",
    "plt.figure(figsize=(15,5))\n",
    "df_model.corr().loc['favorite'][:-1].plot.barh()\n",
    "plt.savefig('Correlation.png')"
   ]
  },
  {
   "cell_type": "code",
   "execution_count": 8,
   "metadata": {},
   "outputs": [
    {
     "name": "stdout",
     "output_type": "stream",
     "text": [
      "length                                  : correlation:  0.1499, p-value: 8.896270477994195e-34, significant: True\n",
      "popularity                              : correlation: -0.1545, p-value: 8.393667364466759e-36, significant: True\n",
      "danceability                            : correlation:  0.0567, p-value: 5.084533154588712e-06, significant: True\n",
      "acousticness                            : correlation: -0.0006, p-value: 0.9608465526333733, significant: False\n",
      "energy                                  : correlation: -0.0021, p-value: 0.8662286336264767, significant: False\n",
      "instrumentalness                        : correlation:  0.1160, p-value: 8.359592574219926e-21, significant: True\n",
      "liveness                                : correlation: -0.0278, p-value: 0.025329736554863837, significant: True\n",
      "loudness                                : correlation: -0.0710, p-value: 1.091732277986825e-08, significant: True\n",
      "speechiness                             : correlation: -0.0455, p-value: 0.0002505323758702208, significant: True\n",
      "tempo                                   : correlation: -0.0041, p-value: 0.741011163547366, significant: False\n",
      "time_signature                          : correlation:  0.0051, p-value: 0.6804996149341902, significant: False\n"
     ]
    }
   ],
   "source": [
    "#Check p-values for significance. P-values greater than .05 mean we fail to reject the null hypothesis that the feature and target have correlation that is significantly close to 0. \n",
    "#P-values less than .05 mean we reject the null hypothesis and the feature and target have correlation that is significantly different than 0.\n",
    "from scipy.stats import pearsonr\n",
    "from pandas.api.types import is_numeric_dtype\n",
    "for c in df_model.columns[:-1]:\n",
    "    if is_numeric_dtype(df_model[c]):\n",
    "        correlation, pvalue = pearsonr(df_model[c], df_model['favorite'])\n",
    "        print(f'{c : <40}: correlation: {correlation : .4f}, p-value: {pvalue}, significant: {pvalue <= 0.05}')\n"
   ]
  },
  {
   "cell_type": "code",
   "execution_count": 34,
   "metadata": {},
   "outputs": [],
   "source": [
    "# Importing required libraries\n",
    "import sklearn\n",
    "from sklearn.pipeline import Pipeline\n",
    "from sklearn.model_selection import cross_val_score\n",
    "from sklearn.model_selection import train_test_split\n",
    "from sklearn.model_selection import GridSearchCV\n",
    "from sklearn.metrics import plot_confusion_matrix\n",
    "from sklearn import metrics \n",
    "from sklearn.metrics import f1_score\n",
    "# Models\n",
    "from sklearn.ensemble import RandomForestClassifier\n",
    "from sklearn.linear_model import LogisticRegression \n",
    "from sklearn.tree import DecisionTreeClassifier"
   ]
  },
  {
   "cell_type": "code",
   "execution_count": 47,
   "metadata": {},
   "outputs": [],
   "source": [
    "from sklearn.model_selection import train_test_split\n",
    "\n",
    "X = df_model.drop(columns=['favorite', 'track_id', 'tempo', 'acousticness', 'time_signature', 'energy'])\n",
    "y = df_model.favorite\n",
    "\n",
    "x_train, x_test, y_train, y_test = train_test_split(X, y, train_size=0.8, stratify=y)"
   ]
  },
  {
   "cell_type": "code",
   "execution_count": 48,
   "metadata": {},
   "outputs": [
    {
     "data": {
      "text/html": [
       "<div>\n",
       "<style scoped>\n",
       "    .dataframe tbody tr th:only-of-type {\n",
       "        vertical-align: middle;\n",
       "    }\n",
       "\n",
       "    .dataframe tbody tr th {\n",
       "        vertical-align: top;\n",
       "    }\n",
       "\n",
       "    .dataframe thead th {\n",
       "        text-align: right;\n",
       "    }\n",
       "</style>\n",
       "<table border=\"1\" class=\"dataframe\">\n",
       "  <thead>\n",
       "    <tr style=\"text-align: right;\">\n",
       "      <th></th>\n",
       "      <th>length</th>\n",
       "      <th>popularity</th>\n",
       "      <th>danceability</th>\n",
       "      <th>instrumentalness</th>\n",
       "      <th>liveness</th>\n",
       "      <th>loudness</th>\n",
       "      <th>speechiness</th>\n",
       "    </tr>\n",
       "  </thead>\n",
       "  <tbody>\n",
       "    <tr>\n",
       "      <th>4855</th>\n",
       "      <td>233500</td>\n",
       "      <td>53</td>\n",
       "      <td>0.575</td>\n",
       "      <td>0.8860</td>\n",
       "      <td>0.1280</td>\n",
       "      <td>-13.334</td>\n",
       "      <td>0.0375</td>\n",
       "    </tr>\n",
       "    <tr>\n",
       "      <th>383</th>\n",
       "      <td>196667</td>\n",
       "      <td>62</td>\n",
       "      <td>0.763</td>\n",
       "      <td>0.0112</td>\n",
       "      <td>0.4760</td>\n",
       "      <td>-9.063</td>\n",
       "      <td>0.0807</td>\n",
       "    </tr>\n",
       "    <tr>\n",
       "      <th>619</th>\n",
       "      <td>242927</td>\n",
       "      <td>46</td>\n",
       "      <td>0.617</td>\n",
       "      <td>0.8780</td>\n",
       "      <td>0.0858</td>\n",
       "      <td>-8.204</td>\n",
       "      <td>0.0433</td>\n",
       "    </tr>\n",
       "    <tr>\n",
       "      <th>1022</th>\n",
       "      <td>466733</td>\n",
       "      <td>50</td>\n",
       "      <td>0.685</td>\n",
       "      <td>0.7270</td>\n",
       "      <td>0.0266</td>\n",
       "      <td>-6.623</td>\n",
       "      <td>0.0563</td>\n",
       "    </tr>\n",
       "    <tr>\n",
       "      <th>3611</th>\n",
       "      <td>292000</td>\n",
       "      <td>36</td>\n",
       "      <td>0.820</td>\n",
       "      <td>0.7040</td>\n",
       "      <td>0.0750</td>\n",
       "      <td>-11.629</td>\n",
       "      <td>0.0488</td>\n",
       "    </tr>\n",
       "  </tbody>\n",
       "</table>\n",
       "</div>"
      ],
      "text/plain": [
       "      length  popularity  danceability  instrumentalness  liveness  loudness  \\\n",
       "4855  233500          53         0.575            0.8860    0.1280   -13.334   \n",
       "383   196667          62         0.763            0.0112    0.4760    -9.063   \n",
       "619   242927          46         0.617            0.8780    0.0858    -8.204   \n",
       "1022  466733          50         0.685            0.7270    0.0266    -6.623   \n",
       "3611  292000          36         0.820            0.7040    0.0750   -11.629   \n",
       "\n",
       "      speechiness  \n",
       "4855       0.0375  \n",
       "383        0.0807  \n",
       "619        0.0433  \n",
       "1022       0.0563  \n",
       "3611       0.0488  "
      ]
     },
     "execution_count": 48,
     "metadata": {},
     "output_type": "execute_result"
    }
   ],
   "source": [
    "x_train.head()"
   ]
  },
  {
   "cell_type": "code",
   "execution_count": 49,
   "metadata": {},
   "outputs": [
    {
     "data": {
      "text/plain": [
       "0    4677\n",
       "1     494\n",
       "Name: favorite, dtype: int64"
      ]
     },
     "execution_count": 49,
     "metadata": {},
     "output_type": "execute_result"
    }
   ],
   "source": [
    "# Checking for imbalance\n",
    "y_train.value_counts()"
   ]
  },
  {
   "cell_type": "code",
   "execution_count": 51,
   "metadata": {},
   "outputs": [
    {
     "name": "stdout",
     "output_type": "stream",
     "text": [
      "SMOTE(random_state=42)                                  0.6662462650267529\n",
      "BorderlineSMOTE(random_state=42)                        0.6660100062539087\n",
      "BorderlineSMOTE(kind='borderline-2', random_state=42)   0.6660864429157113\n",
      "SVMSMOTE(random_state=42)                               0.6650649711625323\n",
      "ADASYN(random_state=42)                                 0.6660516989785282\n",
      "SMOTEENN(random_state=42)                               0.6660447501910917\n",
      "SMOTETomek(random_state=42)                             0.6662045723021333\n"
     ]
    }
   ],
   "source": [
    "from imblearn.over_sampling import SMOTE, BorderlineSMOTE, SVMSMOTE, ADASYN\n",
    "from imblearn.combine import SMOTEENN, SMOTETomek\n",
    "from sklearn.metrics import roc_auc_score\n",
    "from sklearn.linear_model import LogisticRegressionCV\n",
    "\n",
    "samplers = [\n",
    " SMOTE(random_state=42),\n",
    " BorderlineSMOTE(random_state=42, kind=\"borderline-1\"),\n",
    " BorderlineSMOTE(random_state=42, kind=\"borderline-2\"),\n",
    " SVMSMOTE(random_state=42),\n",
    " ADASYN(random_state=42),\n",
    " SMOTEENN(random_state=42),\n",
    " SMOTETomek(random_state=42)\n",
    "]\n",
    "for s in samplers:\n",
    "    x_resampled, y_resampled = s.fit_resample(x_train, y_train)\n",
    "    lr_model_rs = LogisticRegressionCV(max_iter=1000)\n",
    "    lr_model_rs.fit(x_resampled, y_resampled)\n",
    "    ra_score = roc_auc_score(y_test,\n",
    "    lr_model_rs.predict_proba(x_test)[:, 1])\n",
    "    print(f'{str(s):<55} {ra_score}')"
   ]
  },
  {
   "cell_type": "code",
   "execution_count": 52,
   "metadata": {},
   "outputs": [],
   "source": [
    "# Train / Split Data\n",
    "oversample = SMOTE()\n",
    "x_train, y_train = oversample.fit_resample(x_train, y_train) "
   ]
  },
  {
   "cell_type": "code",
   "execution_count": 53,
   "metadata": {},
   "outputs": [
    {
     "data": {
      "text/plain": [
       "1    4677\n",
       "0    4677\n",
       "Name: favorite, dtype: int64"
      ]
     },
     "execution_count": 53,
     "metadata": {},
     "output_type": "execute_result"
    }
   ],
   "source": [
    "# Checking if imbalance is gone\n",
    "y_train.value_counts()"
   ]
  },
  {
   "cell_type": "markdown",
   "metadata": {},
   "source": [
    "Testing Models"
   ]
  },
  {
   "cell_type": "code",
   "execution_count": 57,
   "metadata": {},
   "outputs": [
    {
     "name": "stdout",
     "output_type": "stream",
     "text": [
      "0.6603580308774216\n",
      "Wall time: 164 ms\n"
     ]
    }
   ],
   "source": [
    "%%time\n",
    "# Logistic Regression\n",
    "lr = LogisticRegression(solver='lbfgs', max_iter=400).fit(x_train, y_train)\n",
    "lr_scores = cross_val_score(lr, x_train, y_train, cv=10, scoring=\"f1\")\n",
    "print(np.mean(lr_scores))"
   ]
  },
  {
   "cell_type": "code",
   "execution_count": 58,
   "metadata": {},
   "outputs": [
    {
     "data": {
      "text/plain": [
       "<sklearn.metrics._plot.confusion_matrix.ConfusionMatrixDisplay at 0x2275d24a670>"
      ]
     },
     "execution_count": 58,
     "metadata": {},
     "output_type": "execute_result"
    },
    {
     "data": {
      "image/png": "[encoded data removed]",
      "text/plain": [
       "<Figure size 432x288 with 2 Axes>"
      ]
     },
     "metadata": {
      "needs_background": "light"
     },
     "output_type": "display_data"
    }
   ],
   "source": [
    "# Logistic Regression confusion matrix\n",
    "lr_preds = lr.predict(x_train)\n",
    "plot_confusion_matrix(lr, x_train, y_train)"
   ]
  },
  {
   "cell_type": "code",
   "execution_count": 60,
   "metadata": {},
   "outputs": [
    {
     "data": {
      "text/plain": [
       "{'max_depth': 20}"
      ]
     },
     "execution_count": 60,
     "metadata": {},
     "output_type": "execute_result"
    }
   ],
   "source": [
    "# Hyperparameter optimization for Decision Tree Classifier\n",
    "parameters = {\n",
    "    'max_depth':[3, 4, 5, 6, 10, 15,20,30],\n",
    "}\n",
    "dtc = Pipeline([('CV',GridSearchCV(DecisionTreeClassifier(), parameters, cv = 5))])\n",
    "dtc.fit(x_train, y_train)\n",
    "dtc.named_steps['CV'].best_params_"
   ]
  },
  {
   "cell_type": "code",
   "execution_count": 61,
   "metadata": {},
   "outputs": [
    {
     "name": "stdout",
     "output_type": "stream",
     "text": [
      "Wall time: 789 ms\n"
     ]
    },
    {
     "data": {
      "text/plain": [
       "0.8145387222228129"
      ]
     },
     "execution_count": 61,
     "metadata": {},
     "output_type": "execute_result"
    }
   ],
   "source": [
    "%%time\n",
    "# Decision Tree Classifier\n",
    "dt = DecisionTreeClassifier(max_depth=20).fit(x_train, y_train)\n",
    "dt_scores = cross_val_score(dt, x_train, y_train, cv=10, scoring=\"f1\")\n",
    "np.mean(dt_scores)"
   ]
  },
  {
   "cell_type": "code",
   "execution_count": 62,
   "metadata": {},
   "outputs": [
    {
     "data": {
      "text/plain": [
       "<sklearn.metrics._plot.confusion_matrix.ConfusionMatrixDisplay at 0x2275d739dc0>"
      ]
     },
     "execution_count": 62,
     "metadata": {},
     "output_type": "execute_result"
    },
    {
     "data": {
      "image/png": "[encoded data removed]",
      "text/plain": [
       "<Figure size 432x288 with 2 Axes>"
      ]
     },
     "metadata": {
      "needs_background": "light"
     },
     "output_type": "display_data"
    }
   ],
   "source": [
    "# Decision Tree Classifier confusion matrix\n",
    "plot_confusion_matrix(dt, x_train, y_train)"
   ]
  },
  {
   "cell_type": "code",
   "execution_count": 64,
   "metadata": {},
   "outputs": [
    {
     "name": "stdout",
     "output_type": "stream",
     "text": [
      "Wall time: 15.5 s\n"
     ]
    },
    {
     "data": {
      "text/plain": [
       "{'max_depth': 20, 'n_estimators': 30}"
      ]
     },
     "execution_count": 64,
     "metadata": {},
     "output_type": "execute_result"
    }
   ],
   "source": [
    "%%time\n",
    "# Hyperparameter optimization of RandomForestClassifier\n",
    "parameters = {\n",
    "    'max_depth':[3, 6,12,15,20],\n",
    "    'n_estimators':[10, 20,30]\n",
    "}\n",
    "clf = Pipeline([('CV',GridSearchCV(RandomForestClassifier(), parameters, cv = 5))])\n",
    "clf.fit(x_train, y_train)\n",
    "clf.named_steps['CV'].best_params_"
   ]
  },
  {
   "cell_type": "code",
   "execution_count": 65,
   "metadata": {},
   "outputs": [
    {
     "name": "stdout",
     "output_type": "stream",
     "text": [
      "Wall time: 4.97 s\n"
     ]
    },
    {
     "data": {
      "text/plain": [
       "0.8809943554078433"
      ]
     },
     "execution_count": 65,
     "metadata": {},
     "output_type": "execute_result"
    }
   ],
   "source": [
    "%%time\n",
    "# RandomForestClassifier\n",
    "rf = Pipeline([('rf', RandomForestClassifier(n_estimators = 30, max_depth = 20).fit(x_train, y_train))])\n",
    "rf_scores = cross_val_score(rf, x_train, y_train, cv=10, scoring=\"f1\")\n",
    "np.mean(rf_scores)"
   ]
  },
  {
   "cell_type": "code",
   "execution_count": 66,
   "metadata": {},
   "outputs": [
    {
     "data": {
      "text/plain": [
       "<sklearn.metrics._plot.confusion_matrix.ConfusionMatrixDisplay at 0x2275e7d0b80>"
      ]
     },
     "execution_count": 66,
     "metadata": {},
     "output_type": "execute_result"
    },
    {
     "data": {
      "image/png": "[encoded data removed]",
      "text/plain": [
       "<Figure size 432x288 with 2 Axes>"
      ]
     },
     "metadata": {
      "needs_background": "light"
     },
     "output_type": "display_data"
    }
   ],
   "source": [
    "# Random Forest Classifier confusion matrix\n",
    "plot_confusion_matrix(rf, x_train, y_train)"
   ]
  },
  {
   "cell_type": "markdown",
   "metadata": {},
   "source": [
    "EDIT Although the RandomForestClassifier had the highest accuracy, the confusion matrix showed the DecisionTreeClassifier truly had the higher accuracy because it has less false positives and negatives.\n",
    "\n",
    "Therefore, I will be using the DecisionTreeClassifier as my recommendation algorithm."
   ]
  },
  {
   "cell_type": "code",
   "execution_count": 67,
   "metadata": {},
   "outputs": [
    {
     "data": {
      "text/plain": [
       "0    1170\n",
       "1     123\n",
       "Name: favorite, dtype: int64"
      ]
     },
     "execution_count": 67,
     "metadata": {},
     "output_type": "execute_result"
    }
   ],
   "source": [
    "# Checking for imbalance\n",
    "y_test.value_counts()"
   ]
  },
  {
   "cell_type": "code",
   "execution_count": 70,
   "metadata": {},
   "outputs": [
    {
     "data": {
      "text/plain": [
       "0.8368136117556071"
      ]
     },
     "execution_count": 70,
     "metadata": {},
     "output_type": "execute_result"
    }
   ],
   "source": [
    "# Building a pipeline to use on regular data\n",
    "from sklearn.pipeline import make_pipeline\n",
    "from sklearn.preprocessing import StandardScaler\n",
    "\n",
    "pipe = make_pipeline(StandardScaler(), RandomForestClassifier(n_estimators = 30, max_depth = 20))\n",
    "pipe.fit(x_train, y_train)  # apply scaling on training data\n",
    "Pipeline(steps=[('standardscaler', StandardScaler()),\n",
    "                ('rf', RandomForestClassifier(n_estimators = 30, max_depth = 20))])\n",
    "\n",
    "pipe.score(x_test, y_test)"
   ]
  },
  {
   "cell_type": "code",
   "execution_count": 72,
   "metadata": {},
   "outputs": [
    {
     "data": {
      "text/plain": [
       "<sklearn.metrics._plot.confusion_matrix.ConfusionMatrixDisplay at 0x22760875df0>"
      ]
     },
     "execution_count": 72,
     "metadata": {},
     "output_type": "execute_result"
    },
    {
     "data": {
      "image/png": "[encoded data removed]",
      "text/plain": [
       "<Figure size 432x288 with 2 Axes>"
      ]
     },
     "metadata": {
      "needs_background": "light"
     },
     "output_type": "display_data"
    }
   ],
   "source": [
    "plot_confusion_matrix(rf, x_test, y_test)"
   ]
  },
  {
   "cell_type": "code",
   "execution_count": 74,
   "metadata": {},
   "outputs": [],
   "source": [
    "# Reloading the original dataframe to test the model on\n",
    "dfplaylist = pd.read_csv('SpotifyMarch22ML.csv')"
   ]
  },
  {
   "cell_type": "code",
   "execution_count": 76,
   "metadata": {},
   "outputs": [
    {
     "data": {
      "text/plain": [
       "(5847, 13)"
      ]
     },
     "execution_count": 76,
     "metadata": {},
     "output_type": "execute_result"
    }
   ],
   "source": [
    "dfplaylist.shape"
   ]
  },
  {
   "cell_type": "code",
   "execution_count": 87,
   "metadata": {},
   "outputs": [],
   "source": [
    "# Predicting if a song is a favorite\n",
    "prob_preds = pipe.predict_proba(dfplaylist.drop(['favorite', 'track_id', 'tempo', 'acousticness', 'time_signature', 'energy','prediction'], axis=1))\n",
    "threshold = 0.75 # define threshold here\n",
    "preds = [1 if prob_preds[i][1]> threshold else 0 for i in range(len(prob_preds))]\n",
    "dfplaylist['prediction'] = preds"
   ]
  },
  {
   "cell_type": "code",
   "execution_count": 88,
   "metadata": {},
   "outputs": [
    {
     "data": {
      "text/plain": [
       "0    5817\n",
       "1      30\n",
       "Name: prediction, dtype: int64"
      ]
     },
     "execution_count": 88,
     "metadata": {},
     "output_type": "execute_result"
    }
   ],
   "source": [
    "dfplaylist['prediction'].value_counts()"
   ]
  },
  {
   "cell_type": "code",
   "execution_count": 89,
   "metadata": {},
   "outputs": [],
   "source": [
    "import spotipy\n",
    "import spotipy.util as util\n",
    "from spotipy.oauth2 import SpotifyClientCredentials\n",
    "from spotipy import oauth2"
   ]
  },
  {
   "cell_type": "code",
   "execution_count": 90,
   "metadata": {},
   "outputs": [],
   "source": [
    "# Insert your Spotify username and the credentials that you obtained from spotify developer\n",
    "cid = 'dcc21a37cc5043128d21d9f13ae66490'\n",
    "secret = '90cbe933faf6455481044dfc6e401af0'\n",
    "redirect_uri='http://localhost:7777/callback'\n",
    "username = 'c0wmilker247'"
   ]
  },
  {
   "cell_type": "code",
   "execution_count": 91,
   "metadata": {},
   "outputs": [],
   "source": [
    "# Once the Authorisation is complete, we just need to `sp` to call the APIs\n",
    "scope = 'user-top-read playlist-modify-private playlist-modify-public'\n",
    "token = util.prompt_for_user_token(username, scope, client_id=cid, client_secret=secret, redirect_uri=redirect_uri)\n",
    "\n",
    "if token:\n",
    "    sp = spotipy.Spotify(auth=token)\n",
    "else:\n",
    "    print(\"Can't get token for\", username)"
   ]
  },
  {
   "cell_type": "code",
   "execution_count": 92,
   "metadata": {},
   "outputs": [],
   "source": [
    "# Creating a function that builds a playlist in the user's spotify account\n",
    "def create_playlist(sp, username, playlist_name, playlist_description):\n",
    "    playlists = sp.user_playlist_create(username, playlist_name, description = playlist_description)"
   ]
  },
  {
   "cell_type": "code",
   "execution_count": 93,
   "metadata": {},
   "outputs": [],
   "source": [
    "create_playlist(sp, username, 'Electronic Playlist Recommendation V1', 'The tracks on this playlist were recommended from Spotify\\'s electronic playlists!')"
   ]
  },
  {
   "cell_type": "code",
   "execution_count": 94,
   "metadata": {},
   "outputs": [],
   "source": [
    "# Function to check if the playlist was created successfully\n",
    "def fetch_playlists(sp, username):\n",
    "    \"\"\"\n",
    "    Returns the user's playlists.\n",
    "    \"\"\"\n",
    "        \n",
    "    id = []\n",
    "    name = []\n",
    "    num_tracks = []\n",
    "    \n",
    "    # Make the API request\n",
    "    playlists = sp.user_playlists(username)\n",
    "    for playlist in playlists['items']:\n",
    "        id.append(playlist['id'])\n",
    "        name.append(playlist['name'])\n",
    "        num_tracks.append(playlist['tracks']['total'])\n",
    "\n",
    "    # Create the final df   \n",
    "    df_playlists = pd.DataFrame({\"id\":id, \"name\": name, \"#tracks\": num_tracks})\n",
    "    return df_playlists"
   ]
  },
  {
   "cell_type": "code",
   "execution_count": 95,
   "metadata": {},
   "outputs": [
    {
     "data": {
      "text/html": [
       "<div>\n",
       "<style scoped>\n",
       "    .dataframe tbody tr th:only-of-type {\n",
       "        vertical-align: middle;\n",
       "    }\n",
       "\n",
       "    .dataframe tbody tr th {\n",
       "        vertical-align: top;\n",
       "    }\n",
       "\n",
       "    .dataframe thead th {\n",
       "        text-align: right;\n",
       "    }\n",
       "</style>\n",
       "<table border=\"1\" class=\"dataframe\">\n",
       "  <thead>\n",
       "    <tr style=\"text-align: right;\">\n",
       "      <th></th>\n",
       "      <th>id</th>\n",
       "      <th>name</th>\n",
       "      <th>#tracks</th>\n",
       "    </tr>\n",
       "  </thead>\n",
       "  <tbody>\n",
       "    <tr>\n",
       "      <th>0</th>\n",
       "      <td>5BKeJkILyINOCMng0vlvFf</td>\n",
       "      <td>Electronic Playlist Recommendation V1</td>\n",
       "      <td>0</td>\n",
       "    </tr>\n",
       "    <tr>\n",
       "      <th>1</th>\n",
       "      <td>557PpzJfEp5OI3XgxhRv3D</td>\n",
       "      <td>Inject Energy</td>\n",
       "      <td>1</td>\n",
       "    </tr>\n",
       "    <tr>\n",
       "      <th>2</th>\n",
       "      <td>6F8QSUgbKZ6HMNWck5sBry</td>\n",
       "      <td>March ‘22</td>\n",
       "      <td>11</td>\n",
       "    </tr>\n",
       "    <tr>\n",
       "      <th>3</th>\n",
       "      <td>3fZFNntQKqhg7a3aio7b1i</td>\n",
       "      <td>February ‘22</td>\n",
       "      <td>21</td>\n",
       "    </tr>\n",
       "    <tr>\n",
       "      <th>4</th>\n",
       "      <td>6yLDq6V9mlnilT6to5f4Fw</td>\n",
       "      <td>Air I Breathe - Sub Focus &amp; Wilkinson</td>\n",
       "      <td>1</td>\n",
       "    </tr>\n",
       "  </tbody>\n",
       "</table>\n",
       "</div>"
      ],
      "text/plain": [
       "                       id                                   name  #tracks\n",
       "0  5BKeJkILyINOCMng0vlvFf  Electronic Playlist Recommendation V1        0\n",
       "1  557PpzJfEp5OI3XgxhRv3D                          Inject Energy        1\n",
       "2  6F8QSUgbKZ6HMNWck5sBry                              March ‘22       11\n",
       "3  3fZFNntQKqhg7a3aio7b1i                           February ‘22       21\n",
       "4  6yLDq6V9mlnilT6to5f4Fw  Air I Breathe - Sub Focus & Wilkinson        1"
      ]
     },
     "execution_count": 95,
     "metadata": {},
     "output_type": "execute_result"
    }
   ],
   "source": [
    "fetch_playlists(sp,username).head()"
   ]
  },
  {
   "cell_type": "code",
   "execution_count": 96,
   "metadata": {},
   "outputs": [],
   "source": [
    "# Getting the playlist ID of the most recently made playlist so we can add songs to it later\n",
    "playlist_id = fetch_playlists(sp,username)['id'][0]"
   ]
  },
  {
   "cell_type": "code",
   "execution_count": 97,
   "metadata": {},
   "outputs": [],
   "source": [
    "# Function to add selected songs to playlist\n",
    "def enrich_playlist(sp, username, playlist_id, playlist_tracks):\n",
    "    index = 0\n",
    "    results = []\n",
    "    \n",
    "    while index < len(playlist_tracks):\n",
    "        results += sp.user_playlist_add_tracks(username, playlist_id, tracks = playlist_tracks[index:index + 75])\n",
    "        index += 75"
   ]
  },
  {
   "cell_type": "code",
   "execution_count": 98,
   "metadata": {},
   "outputs": [],
   "source": [
    "# Adding songs to playlist\n",
    "list_track = df.loc[df['prediction']  == 1]['track_id']\n",
    "enrich_playlist(sp, username, playlist_id, list_track)"
   ]
  }
 ],
 "metadata": {
  "interpreter": {
   "hash": "19a4dd5266e9c37065aff1ad422180303b13da0d41bd47a6eff9395b63ec4ae5"
  },
  "kernelspec": {
   "display_name": "Python 3.8.5 ('base')",
   "language": "python",
   "name": "python3"
  },
  "language_info": {
   "codemirror_mode": {
    "name": "ipython",
    "version": 3
   },
   "file_extension": ".py",
   "mimetype": "text/x-python",
   "name": "python",
   "nbconvert_exporter": "python",
   "pygments_lexer": "ipython3",
   "version": "3.8.5"
  },
  "orig_nbformat": 4
 },
 "nbformat": 4,
 "nbformat_minor": 2
}
